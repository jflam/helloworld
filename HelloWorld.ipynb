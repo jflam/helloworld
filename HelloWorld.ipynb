{
 "cells": [
  {
   "cell_type": "markdown",
   "metadata": {},
   "source": [
    "# Hello World\n",
    "\n",
    "This is an experiment in writing some Hello World analysis using Jupyter notebooks. Let's begin by looking at the environment that we are running in."
   ]
  },
  {
   "cell_type": "markdown",
   "metadata": {},
   "source": [
    "What version of Linux are we running?"
   ]
  },
  {
   "cell_type": "code",
   "execution_count": 13,
   "metadata": {},
   "outputs": [
    {
     "name": "stdout",
     "output_type": "stream",
     "text": [
      "No LSB modules are available.\r\n",
      "Distributor ID:\tUbuntu\r\n",
      "Description:\tUbuntu 18.04.1 LTS\r\n",
      "Release:\t18.04\r\n",
      "Codename:\tbionic\r\n"
     ]
    }
   ],
   "source": [
    "!lsb_release -a"
   ]
  },
  {
   "cell_type": "markdown",
   "metadata": {},
   "source": [
    "What version of Python are we running?"
   ]
  },
  {
   "cell_type": "code",
   "execution_count": 14,
   "metadata": {},
   "outputs": [
    {
     "name": "stdout",
     "output_type": "stream",
     "text": [
      "3.6.5 (default, Apr  1 2018, 05:46:30) \n",
      "[GCC 7.3.0]\n"
     ]
    }
   ],
   "source": [
    "import sys\n",
    "print(sys.version)"
   ]
  },
  {
   "cell_type": "markdown",
   "metadata": {},
   "source": [
    "What version of Jupyter are we running?"
   ]
  },
  {
   "cell_type": "code",
   "execution_count": 18,
   "metadata": {},
   "outputs": [
    {
     "name": "stdout",
     "output_type": "stream",
     "text": [
      "1.0.0\n"
     ]
    }
   ],
   "source": [
    "import jupyter\n",
    "print(jupyter.__version__)"
   ]
  },
  {
   "cell_type": "markdown",
   "metadata": {},
   "source": [
    "## Hello World in K&R C\n",
    "\n",
    "Let's take a look at the standard K&R C Hello, World source:"
   ]
  },
  {
   "cell_type": "code",
   "execution_count": 19,
   "metadata": {},
   "outputs": [
    {
     "name": "stdout",
     "output_type": "stream",
     "text": [
      "#include <stdio.h>\r",
      "\r\n",
      "\r",
      "\r\n",
      "int main(void) {\r",
      "\r\n",
      "    printf(\"Hello, World!\\n\");\r",
      "\r\n",
      "    return 0;\r",
      "\r\n",
      "}\r",
      "\r\n"
     ]
    }
   ],
   "source": [
    "!cat hello.c"
   ]
  },
  {
   "cell_type": "markdown",
   "metadata": {},
   "source": [
    "Let's compile a simple C file that contains the K&R Hello, World code"
   ]
  },
  {
   "cell_type": "code",
   "execution_count": 20,
   "metadata": {},
   "outputs": [],
   "source": [
    "!gcc -o hello hello.c"
   ]
  },
  {
   "cell_type": "markdown",
   "metadata": {},
   "source": [
    "Now, let's run that file"
   ]
  },
  {
   "cell_type": "code",
   "execution_count": 21,
   "metadata": {},
   "outputs": [
    {
     "name": "stdout",
     "output_type": "stream",
     "text": [
      "Hello, World!\r\n"
     ]
    }
   ],
   "source": [
    "!./hello"
   ]
  },
  {
   "cell_type": "markdown",
   "metadata": {},
   "source": [
    "How big is hello.c?"
   ]
  },
  {
   "cell_type": "code",
   "execution_count": 22,
   "metadata": {},
   "outputs": [
    {
     "name": "stdout",
     "output_type": "stream",
     "text": [
      "-rwxrwxrwx 1 jlam jlam 8296 Sep  9 00:18 hello\r\n"
     ]
    }
   ],
   "source": [
    "!ls -l hello"
   ]
  },
  {
   "cell_type": "markdown",
   "metadata": {},
   "source": [
    "## Examining the ELF binary in more detail\n",
    "\n",
    "Let's begin by installing some helper libraries"
   ]
  },
  {
   "cell_type": "code",
   "execution_count": 27,
   "metadata": {},
   "outputs": [
    {
     "name": "stdout",
     "output_type": "stream",
     "text": [
      "Collecting pyelftools\n",
      "Installing collected packages: pyelftools\n",
      "Successfully installed pyelftools-0.25\n"
     ]
    }
   ],
   "source": [
    "!pip3 install pyelftools"
   ]
  },
  {
   "cell_type": "code",
   "execution_count": 38,
   "metadata": {},
   "outputs": [],
   "source": [
    "from elftools.elf.elffile import ELFFile\n",
    "\n",
    "f = open('hello', 'rb')\n",
    "elffile = ELFFile(f)"
   ]
  },
  {
   "cell_type": "code",
   "execution_count": 39,
   "metadata": {},
   "outputs": [
    {
     "name": "stdout",
     "output_type": "stream",
     "text": [
      "<elftools.elf.sections.NullSection object at 0x7f4c58043748>\n",
      "<elftools.elf.sections.Section object at 0x7f4c4a8c7160>\n",
      "<elftools.elf.sections.NoteSection object at 0x7f4c58043748>\n",
      "<elftools.elf.sections.NoteSection object at 0x7f4c4a8a81d0>\n",
      "<elftools.elf.sections.Section object at 0x7f4c58043748>\n",
      "<elftools.elf.sections.SymbolTableSection object at 0x7f4c4a8cda20>\n",
      "<elftools.elf.sections.StringTableSection object at 0x7f4c4a8cda58>\n",
      "<elftools.elf.gnuversions.GNUVerSymSection object at 0x7f4c4a8cdb00>\n",
      "<elftools.elf.gnuversions.GNUVerNeedSection object at 0x7f4c4a8cdb70>\n",
      "<elftools.elf.relocation.RelocationSection object at 0x7f4c4a8a81d0>\n",
      "<elftools.elf.relocation.RelocationSection object at 0x7f4c4a8cdb70>\n",
      "<elftools.elf.sections.Section object at 0x7f4c4a8cda58>\n",
      "<elftools.elf.sections.Section object at 0x7f4c4a8cdb00>\n",
      "<elftools.elf.sections.Section object at 0x7f4c4a8a81d0>\n",
      "<elftools.elf.sections.Section object at 0x7f4c4a8cdb38>\n",
      "<elftools.elf.sections.Section object at 0x7f4c4a8cda58>\n",
      "<elftools.elf.sections.Section object at 0x7f4c4a8cdb70>\n",
      "<elftools.elf.sections.Section object at 0x7f4c4a8a81d0>\n",
      "<elftools.elf.sections.Section object at 0x7f4c4a8cdb70>\n",
      "<elftools.elf.sections.Section object at 0x7f4c4a8a81d0>\n",
      "<elftools.elf.sections.Section object at 0x7f4c4a8cdb70>\n",
      "<elftools.elf.dynamic.DynamicSection object at 0x7f4c4a8a81d0>\n",
      "<elftools.elf.sections.Section object at 0x7f4c4a8cdb70>\n",
      "<elftools.elf.sections.Section object at 0x7f4c4a8cdac8>\n",
      "<elftools.elf.sections.Section object at 0x7f4c4a8cdb70>\n",
      "<elftools.elf.sections.Section object at 0x7f4c4a8a81d0>\n",
      "<elftools.elf.sections.SymbolTableSection object at 0x7f4c4a8cda58>\n",
      "<elftools.elf.sections.StringTableSection object at 0x7f4c4a8cdb38>\n",
      "<elftools.elf.sections.StringTableSection object at 0x7f4c4a8c72b0>\n"
     ]
    }
   ],
   "source": [
    "for sect in elffile.iter_sections():\n",
    "    print(sect)"
   ]
  },
  {
   "cell_type": "code",
   "execution_count": null,
   "metadata": {},
   "outputs": [],
   "source": []
  }
 ],
 "metadata": {
  "kernelspec": {
   "display_name": "Python 3",
   "language": "python",
   "name": "python3"
  },
  "language_info": {
   "codemirror_mode": {
    "name": "ipython",
    "version": 3
   },
   "file_extension": ".py",
   "mimetype": "text/x-python",
   "name": "python",
   "nbconvert_exporter": "python",
   "pygments_lexer": "ipython3",
   "version": "3.6.5"
  }
 },
 "nbformat": 4,
 "nbformat_minor": 2
}
